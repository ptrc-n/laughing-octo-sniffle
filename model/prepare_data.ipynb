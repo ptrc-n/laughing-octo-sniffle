{
 "cells": [
  {
   "cell_type": "code",
   "execution_count": 13,
   "metadata": {},
   "outputs": [
    {
     "name": "stderr",
     "output_type": "stream",
     "text": [
      "/home/assmann/Projects/laughing-octo-sniffle/.venv/lib/python3.8/site-packages/IPython/core/interactiveshell.py:3444: DtypeWarning: Columns (158) have mixed types.Specify dtype option on import or set low_memory=False.\n",
      "  exec(code_obj, self.user_global_ns, self.user_ns)\n"
     ]
    }
   ],
   "source": [
    "import pandas as pd\n",
    "from column_names import sharp_columns\n",
    "\n",
    "DATA_DIR = \"/mnt/hackathon2021/Weltraumwetterlage/own_data\"\n",
    "\n",
    "# inputs\n",
    "Gp_df = None\n",
    "for year in range(2017, 2020):\n",
    "    df = pd.read_csv(f\"{DATA_DIR}/noaa/{year}_Gp_xr_1m_harmonized.csv\")\n",
    "    Gp_df = df if Gp_df is None else Gp_df.append(df)\n",
    "\n",
    "Gp_df[\"Gp_Short\"], Gp_df[\"Gp_Long\"] = Gp_df[\"Short\"], Gp_df[\"Long\"]\n",
    "Gp_df = Gp_df[[\"timestamp\", \"Gp_Long\", \"Gp_Short\"]]\n",
    "Gp_df = Gp_df.dropna()\n",
    "\n",
    "Gs_df = None\n",
    "for year in range(2017, 2020):\n",
    "    df = pd.read_csv(f\"{DATA_DIR}/noaa/{year}_Gs_xr_1m_harmonized.csv\")\n",
    "    Gs_df = df if Gs_df is None else Gs_df.append(df)\n",
    "\n",
    "Gs_df[\"Gs_Short\"], Gs_df[\"Gs_Long\"] = Gs_df[\"Short\"], Gs_df[\"Long\"]\n",
    "Gs_df = Gs_df[[\"timestamp\", \"Gs_Long\", \"Gs_Short\"]]\n",
    "Gs_df = Gs_df.dropna()\n",
    "\n",
    "ace_epam_df = None\n",
    "for year in range(2017, 2020):\n",
    "    df = pd.read_csv(f\"{DATA_DIR}/noaa/{year}_ace_epam_5m_harmonized.csv\")\n",
    "    ace_epam_df = df if ace_epam_df is None else ace_epam_df.append(df)\n",
    "\n",
    "ace_epam_df = ace_epam_df.drop(\n",
    "    [\"YR\", \"MO\", \"DA\", \"HHMM\", \"Modified Julian Day\", \"Seconds of the Day\", \"Anis. Index\"],\n",
    "    axis=1)\n",
    "ace_epam_df = ace_epam_df.dropna()\n",
    "\n",
    "sharp_df = None\n",
    "for year in range(2017, 2020):\n",
    "    df = pd.read_csv(f\"{DATA_DIR}/sharp/{year}.csv\")\n",
    "    sharp_df = df if sharp_df is None else sharp_df.append(df)\n",
    "sharp_df = sharp_df[sharp_columns]\n",
    "sharp_df = sharp_df.dropna()\n",
    "\n",
    "input_df = sharp_df.merge(Gp_df, on=\"timestamp\").merge(Gs_df, on=\"timestamp\").merge(ace_epam_df, on=\"timestamp\")\n",
    "input_df.to_csv(\"/mnt/hackathon2021/Weltraumwetterlage/train_data/input.csv\", index=False)\n"
   ]
  },
  {
   "cell_type": "code",
   "execution_count": 14,
   "metadata": {},
   "outputs": [],
   "source": [
    "# outputs\n",
    "Gp_df = None\n",
    "for year in range(2017, 2020):\n",
    "    df = pd.read_csv(f\"{DATA_DIR}/noaa/{year}_Gp_xr_1m_offset.csv\")\n",
    "    Gp_df = df if Gp_df is None else Gp_df.append(df)\n",
    "\n",
    "Gp_df[\"Gp_Short\"], Gp_df[\"Gp_Long\"] = Gp_df[\"Short\"], Gp_df[\"Long\"]\n",
    "Gp_df = Gp_df[[\"timestamp\", \"Gp_Long\", \"Gp_Short\"]]\n",
    "Gp_df = Gp_df.dropna()\n",
    "\n",
    "Gs_df = None\n",
    "for year in range(2017, 2020):\n",
    "    df = pd.read_csv(f\"{DATA_DIR}/noaa/{year}_Gs_xr_1m_offset.csv\")\n",
    "    Gs_df = df if Gs_df is None else Gs_df.append(df)\n",
    "\n",
    "Gs_df[\"Gs_Short\"], Gs_df[\"Gs_Long\"] = Gs_df[\"Short\"], Gs_df[\"Long\"]\n",
    "Gs_df = Gs_df[[\"timestamp\", \"Gs_Long\", \"Gs_Short\"]]\n",
    "Gs_df = Gs_df.dropna()\n",
    "\n",
    "output_df = Gp_df.merge(Gs_df, on=\"timestamp\")\n",
    "output_df.to_csv(\"/mnt/hackathon2021/Weltraumwetterlage/train_data/output.csv\", index=False)\n",
    "\n"
   ]
  },
  {
   "cell_type": "code",
   "execution_count": 16,
   "metadata": {},
   "outputs": [
    {
     "data": {
      "text/plain": [
       "Index(['timestamp', 'harp', 'USFLUX', 'MEANGAM', 'MEANGBT', 'MEANGBZ',\n",
       "       'MEANGBH', 'TOTPOT', 'TOTUSJZ', 'TOTUSJH', 'ABSNJZH', 'SAVNCPP',\n",
       "       'MEANPOT', 'MEANSHR', 'SHRGT45', 'SIZE', 'SIZE_ACR', 'NACR', 'NPIX',\n",
       "       'MEANJZD', 'MEANALP', 'MEANJZH', 'Gp_Long', 'Gp_Short', 'Gs_Long',\n",
       "       'Gs_Short', 'Electron S', 'Electron 38-53', 'Electron 175-315',\n",
       "       'Protons keV S', 'Protons keV 47-68', 'Protons keV 115-195',\n",
       "       'Protons keV 310-580', 'Protons keV 795-1193', 'Protons keV 1060-1900'],\n",
       "      dtype='object')"
      ]
     },
     "execution_count": 16,
     "metadata": {},
     "output_type": "execute_result"
    }
   ],
   "source": [
    "input_df.columns"
   ]
  },
  {
   "cell_type": "code",
   "execution_count": null,
   "metadata": {},
   "outputs": [],
   "source": []
  }
 ],
 "metadata": {
  "interpreter": {
   "hash": "5a1a6c576499288a80b60d53585e06a738bbb281639f0eca83016fa6edd43f1b"
  },
  "kernelspec": {
   "display_name": "Python 3.8.10 64-bit ('.venv': venv)",
   "language": "python",
   "name": "python3"
  },
  "language_info": {
   "codemirror_mode": {
    "name": "ipython",
    "version": 3
   },
   "file_extension": ".py",
   "mimetype": "text/x-python",
   "name": "python",
   "nbconvert_exporter": "python",
   "pygments_lexer": "ipython3",
   "version": "3.8.10"
  },
  "orig_nbformat": 4
 },
 "nbformat": 4,
 "nbformat_minor": 2
}
